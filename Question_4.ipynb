{
  "nbformat": 4,
  "nbformat_minor": 0,
  "metadata": {
    "colab": {
      "provenance": [],
      "authorship_tag": "ABX9TyMvDyFWuVI2HjcrInMgLerk",
      "include_colab_link": true
    },
    "kernelspec": {
      "name": "python3",
      "display_name": "Python 3"
    },
    "language_info": {
      "name": "python"
    }
  },
  "cells": [
    {
      "cell_type": "markdown",
      "metadata": {
        "id": "view-in-github",
        "colab_type": "text"
      },
      "source": [
        "<a href=\"https://colab.research.google.com/github/dami163/Assignment-2/blob/main/Question_4.ipynb\" target=\"_parent\"><img src=\"https://colab.research.google.com/assets/colab-badge.svg\" alt=\"Open In Colab\"/></a>"
      ]
    },
    {
      "cell_type": "code",
      "execution_count": 9,
      "metadata": {
        "colab": {
          "base_uri": "https://localhost:8080/"
        },
        "id": "A0mB1oyNjRkr",
        "outputId": "b8db9c58-6414-4c9d-9e85-dd95cda2f7d2"
      },
      "outputs": [
        {
          "output_type": "stream",
          "name": "stdout",
          "text": [
            "Value of the crop field angle = -44.38702510610565 degrees\n"
          ]
        }
      ],
      "source": [
        "import cv2 as cv\n",
        "import numpy as np\n",
        "import matplotlib.pyplot as plt\n",
        "\n",
        "img = cv.imread('Crop_field_cropped.jpg', cv.IMREAD_GRAYSCALE)\n",
        "\n",
        "edges = cv.Canny(img, 550, 690)\n",
        "indices = np.where(edges != [0])\n",
        "x = indices[1]\n",
        "y = indices[0]\n",
        "\n",
        "m,c = np.polyfit(x,y,1)\n",
        "fitted_line = m*x + c\n",
        "\n",
        "angle = np.arctan(m)*180/np.pi\n",
        "print('Value of the crop field angle =' ,angle,'degrees')"
      ]
    }
  ]
}