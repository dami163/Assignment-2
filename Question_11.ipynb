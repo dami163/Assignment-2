{
  "nbformat": 4,
  "nbformat_minor": 0,
  "metadata": {
    "colab": {
      "provenance": [],
      "authorship_tag": "ABX9TyOWEin3XmK7PYJUhTfQJ9Xt",
      "include_colab_link": true
    },
    "kernelspec": {
      "name": "python3",
      "display_name": "Python 3"
    },
    "language_info": {
      "name": "python"
    }
  },
  "cells": [
    {
      "cell_type": "markdown",
      "metadata": {
        "id": "view-in-github",
        "colab_type": "text"
      },
      "source": [
        "<a href=\"https://colab.research.google.com/github/dami163/Assignment-2/blob/main/Question_11.ipynb\" target=\"_parent\"><img src=\"https://colab.research.google.com/assets/colab-badge.svg\" alt=\"Open In Colab\"/></a>"
      ]
    },
    {
      "cell_type": "code",
      "execution_count": 14,
      "metadata": {
        "colab": {
          "base_uri": "https://localhost:8080/"
        },
        "id": "gDl6clzeuS2j",
        "outputId": "7813cd65-69f6-4325-948e-377ad1c5def4"
      },
      "outputs": [
        {
          "output_type": "stream",
          "name": "stdout",
          "text": [
            "Estimated angle of the crop field with RANSAC fitting: -50.46 degrees\n"
          ]
        }
      ],
      "source": [
        "import cv2 as cv\n",
        "import numpy as np\n",
        "import matplotlib.pyplot as plt\n",
        "\n",
        "def ransac_line_fitting(img_path, threshold=5, iterations=1000, sample_size=2):\n",
        "    # Read and detect edges\n",
        "    img = cv.imread(img_path, cv.IMREAD_GRAYSCALE)\n",
        "    edges = cv.Canny(img, 550, 690)\n",
        "\n",
        "    indices = np.where(edges != 0)\n",
        "    x = indices[1]\n",
        "    y = indices[0]\n",
        "    points = np.column_stack((x, y))\n",
        "\n",
        "    best_model = None\n",
        "    best_inliers = []\n",
        "\n",
        "    # RANSAC iterations\n",
        "    for _ in range(iterations):\n",
        "        sample_indices = np.random.choice(len(points), sample_size, replace=False)\n",
        "        sample_points = points[sample_indices]\n",
        "\n",
        "        x1, y1 = sample_points[0]\n",
        "        x2, y2 = sample_points[1]\n",
        "\n",
        "        if x2 - x1 != 0:\n",
        "            model_slope = (y2 - y1) / (x2 - x1)\n",
        "            model_intercept = y1 - model_slope * x1\n",
        "\n",
        "            # Calculate distances\n",
        "            distances = np.abs(points[:, 1] - model_slope * points[:, 0] - model_intercept)\n",
        "\n",
        "            # Identify inliers\n",
        "            inliers = points[distances < threshold]\n",
        "\n",
        "            if len(inliers) > len(best_inliers):\n",
        "                best_inliers = inliers\n",
        "                best_model = (model_slope, model_intercept)\n",
        "\n",
        "    if best_model is not None:\n",
        "        x_inliers = best_inliers[:, 0]\n",
        "        y_inliers = best_inliers[:, 1]\n",
        "\n",
        "        m, c = np.polyfit(x_inliers, y_inliers, 1)\n",
        "        fitted_y = m * x + c\n",
        "        angle_radians = np.arctan(m)\n",
        "        angle_degrees = np.degrees(angle_radians)\n",
        "        fitted_y = m * x + c\n",
        "        print(f'Estimated angle of the crop field with RANSAC fitting: {angle_degrees:.2f} degrees')\n",
        "\n",
        "ransac_line_fitting('Crop_field_cropped.jpg')\n"
      ]
    }
  ]
}