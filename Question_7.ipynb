{
  "nbformat": 4,
  "nbformat_minor": 0,
  "metadata": {
    "colab": {
      "provenance": [],
      "authorship_tag": "ABX9TyN5d4MQvF9ex1HRKyQQR5So",
      "include_colab_link": true
    },
    "kernelspec": {
      "name": "python3",
      "display_name": "Python 3"
    },
    "language_info": {
      "name": "python"
    }
  },
  "cells": [
    {
      "cell_type": "markdown",
      "metadata": {
        "id": "view-in-github",
        "colab_type": "text"
      },
      "source": [
        "<a href=\"https://colab.research.google.com/github/dami163/Assignment-2/blob/main/Question_7.ipynb\" target=\"_parent\"><img src=\"https://colab.research.google.com/assets/colab-badge.svg\" alt=\"Open In Colab\"/></a>"
      ]
    },
    {
      "cell_type": "code",
      "execution_count": 1,
      "metadata": {
        "id": "WcSgUIgAhPi3",
        "colab": {
          "base_uri": "https://localhost:8080/"
        },
        "outputId": "ba873227-fd87-4fa3-9bdf-3b4eb514710c"
      },
      "outputs": [
        {
          "output_type": "stream",
          "name": "stdout",
          "text": [
            "value of the crop field angle based on the total least-squares-fit= -22.026565186321754 degrees\n"
          ]
        }
      ],
      "source": [
        "import cv2 as cv\n",
        "import numpy as np\n",
        "import matplotlib.pyplot as plt\n",
        "\n",
        "img = cv.imread('Crop_field_cropped.jpg', cv.IMREAD_GRAYSCALE)\n",
        "\n",
        "edges = cv.Canny(img, 550, 690)\n",
        "indices = np.where(edges != [0])\n",
        "x = indices[1]\n",
        "y = indices[0]\n",
        "\n",
        "m,c = np.polyfit(x,y,1)\n",
        "fitted_line = m*x + c\n",
        "\n",
        "data_matrix = np.vstack([x, y]).T\n",
        "center_point = np.mean(data_matrix, axis=0)\n",
        "data_centeroid = data_matrix - center_point\n",
        "U, S, Vt = np.linalg.svd(data_centeroid, full_matrices=False)\n",
        "angle = -Vt[0, 0] / Vt[1, 0]\n",
        "interception_point = center_point[1] - angle * center_point[0]\n",
        "fitted_tls_line = angle * x + interception_point\n",
        "angle_m = np.arctan(angle)*180/np.pi\n",
        "print ('value of the crop field angle based on the total least-squares-fit=',angle_m,'degrees')\n"
      ]
    }
  ]
}